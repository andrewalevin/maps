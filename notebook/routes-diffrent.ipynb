{
 "cells": [
  {
   "cell_type": "code",
   "execution_count": 1,
   "id": "484a714b-85e7-445a-872c-ae4032f82d18",
   "metadata": {},
   "outputs": [],
   "source": [
    "import tools"
   ]
  },
  {
   "cell_type": "code",
   "execution_count": null,
   "id": "2f251c1e-7077-44fc-a711-8421a71bda39",
   "metadata": {},
   "outputs": [],
   "source": [
    "# https://onthegomap.com/"
   ]
  },
  {
   "cell_type": "code",
   "execution_count": 2,
   "id": "153b54fc-b408-4a75-9e16-7105d0f61480",
   "metadata": {},
   "outputs": [],
   "source": [
    "from ipyleaflet import Map, Polyline\n",
    "from ipywidgets import Layout"
   ]
  },
  {
   "cell_type": "code",
   "execution_count": null,
   "id": "e11dc402-19b5-4676-b9af-8f34ffd3f8fe",
   "metadata": {},
   "outputs": [],
   "source": []
  },
  {
   "cell_type": "code",
   "execution_count": 58,
   "id": "53ed92fc-0d90-46e9-afea-1bf33418e85c",
   "metadata": {},
   "outputs": [],
   "source": [
    "gpx_filename = 'gpxs/onthegomap-2.9-km-route.gpx'\n"
   ]
  },
  {
   "cell_type": "code",
   "execution_count": 59,
   "id": "066b32b2-ddc3-4a5e-9a64-27ca8a8ba0bb",
   "metadata": {},
   "outputs": [],
   "source": [
    "import geopandas as gpd\n",
    "from shapely.geometry import LineString, Point\n",
    "\n",
    "data_activity = tools.getActivityDataFromGpxFile(gpx_filename)\n",
    "\n",
    "points_full = data_activity['tracks'][0]['segments'][0]['points']\n",
    " \n",
    "points = [point[:2] for point in points_full]\n",
    "\n",
    "gdf = gpd.GeoDataFrame(geometry=[LineString(points[:3600])])"
   ]
  },
  {
   "cell_type": "code",
   "execution_count": 60,
   "id": "2bb332c9-927d-485d-b1fc-87a75ae6d1da",
   "metadata": {},
   "outputs": [
    {
     "name": "stdout",
     "output_type": "stream",
     "text": [
      "Simplify Coords count:  76  ->  45\n",
      "Tolerance:  1e-05\n",
      "\n"
     ]
    },
    {
     "data": {
      "application/vnd.jupyter.widget-view+json": {
       "model_id": "8baa213ed87d46e7b4c4ab828d203875",
       "version_major": 2,
       "version_minor": 0
      },
      "text/plain": [
       "Map(center=[55.60360807653518, 36.48812910873], controls=(ZoomControl(options=['position', 'zoom_in_text', 'zo…"
      ]
     },
     "execution_count": 60,
     "metadata": {},
     "output_type": "execute_result"
    }
   ],
   "source": [
    "gdf1 = tools.simplify(gdf,  tolerance=0.00001)\n",
    "\n",
    "m = Map(center=tools.gdf2centroid(gdf1), zoom=10, layout=Layout(width='100%', height='700px'))\n",
    "\n",
    "m.add(tools.gdf2line(gdf, 'navy'))\n",
    "\n",
    "m.add(tools.gdf2line(gdf1, 'red'))\n",
    "\n",
    "m"
   ]
  },
  {
   "cell_type": "code",
   "execution_count": 61,
   "id": "75fbca03-a092-40b5-97bc-1331df2ae675",
   "metadata": {},
   "outputs": [
    {
     "name": "stdout",
     "output_type": "stream",
     "text": [
      "🚀 Export. Path and Variable: \n",
      "maps/notebook/data-output/route-tuchkovo.js\n",
      "\n",
      "<script src=\"https://andrewalevin.github.io/maps/notebook/data-output/route-tuchkovo.js\"></script>\n",
      "\n",
      "<script src=\"/Users/andrewlevin/Desktop/maps/notebook/data-output/route-tuchkovo.js\"></script>\n",
      "\n"
     ]
    }
   ],
   "source": [
    "\n",
    "data_js = {\n",
    "    'route': {\n",
    "        'path': tools.round6(tools.reverse_coords(tools.gdf2coords(gdf1)))\n",
    "    }\n",
    "}\n",
    "\n",
    "tools.export_js_v5('route', 'tuchkovo', data_js)\n"
   ]
  },
  {
   "cell_type": "code",
   "execution_count": null,
   "id": "38347a49-fb54-4746-b703-ec9ab00d854c",
   "metadata": {},
   "outputs": [],
   "source": []
  },
  {
   "cell_type": "code",
   "execution_count": null,
   "id": "f59c760b-cd9a-4efa-a6ef-dee9a0eec063",
   "metadata": {},
   "outputs": [],
   "source": []
  }
 ],
 "metadata": {
  "kernelspec": {
   "display_name": "Python 3 (ipykernel)",
   "language": "python",
   "name": "python3"
  },
  "language_info": {
   "codemirror_mode": {
    "name": "ipython",
    "version": 3
   },
   "file_extension": ".py",
   "mimetype": "text/x-python",
   "name": "python",
   "nbconvert_exporter": "python",
   "pygments_lexer": "ipython3",
   "version": "3.12.0"
  }
 },
 "nbformat": 4,
 "nbformat_minor": 5
}
