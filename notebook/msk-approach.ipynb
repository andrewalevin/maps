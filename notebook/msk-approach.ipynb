{
 "cells": [
  {
   "cell_type": "code",
   "execution_count": 1,
   "id": "14f97feb-597e-4acf-b3e3-6d5fc2527198",
   "metadata": {},
   "outputs": [],
   "source": [
    "from ipyleaflet import Map, Polyline\n",
    "from ipywidgets import Layout"
   ]
  },
  {
   "cell_type": "code",
   "execution_count": 2,
   "id": "e7eb6294-21f0-48c8-8d1b-0eaa401cacdb",
   "metadata": {},
   "outputs": [],
   "source": [
    "import numpy as np\n",
    "import geopandas as gpd"
   ]
  },
  {
   "cell_type": "code",
   "execution_count": 3,
   "id": "ae9036e8-1467-4324-940a-c5b1051b04e2",
   "metadata": {},
   "outputs": [],
   "source": [
    "import tools"
   ]
  },
  {
   "cell_type": "code",
   "execution_count": null,
   "id": "ee430de3-7566-435c-9d4f-c2371807acd5",
   "metadata": {},
   "outputs": [],
   "source": []
  },
  {
   "cell_type": "code",
   "execution_count": null,
   "id": "34ffb0df-d7de-40eb-abe2-04c5d10a312c",
   "metadata": {},
   "outputs": [],
   "source": []
  },
  {
   "cell_type": "code",
   "execution_count": null,
   "id": "3d9b83b3-7069-4f69-92d8-4de7ddbf6b29",
   "metadata": {},
   "outputs": [],
   "source": []
  },
  {
   "cell_type": "code",
   "execution_count": null,
   "id": "8ad534f8-7859-4839-b182-fc4c3c8e7e13",
   "metadata": {},
   "outputs": [],
   "source": []
  },
  {
   "cell_type": "code",
   "execution_count": 6,
   "id": "8acfddf3-7d63-4e8c-9c73-09b93969bc20",
   "metadata": {},
   "outputs": [],
   "source": [
    "# Stage 1"
   ]
  },
  {
   "cell_type": "code",
   "execution_count": 4,
   "id": "23540ace-68ad-450c-8918-b7c55d8b9952",
   "metadata": {},
   "outputs": [
    {
     "name": "stdout",
     "output_type": "stream",
     "text": [
      "📐 total_distance:  51128 meters\n"
     ]
    },
    {
     "data": {
      "application/vnd.jupyter.widget-view+json": {
       "model_id": "f50796a7a5004316af75fa1160f15275",
       "version_major": 2,
       "version_minor": 0
      },
      "text/plain": [
       "Map(center=[55.751426, 37.618879], controls=(ZoomControl(options=['position', 'zoom_in_text', 'zoom_in_title',…"
      ]
     },
     "execution_count": 4,
     "metadata": {},
     "output_type": "execute_result"
    }
   ],
   "source": [
    "\n",
    "region_point = np.array([55.751426, 37.618879])\n",
    "\n",
    "stage1_target_gdf = tools.get_rhombus_path(1000, region_point)\n",
    "\n",
    "stage1_camera_points = [\n",
    "    region_point + np.array([-10, 0]),\n",
    "    region_point + np.array([-1.5, 0]),\n",
    "]\n",
    "\n",
    "m = Map(center=region_point.tolist(), zoom=4)\n",
    "\n",
    "m.add(tools.gdf2line(stage1_target_gdf, 'red'))\n",
    "\n",
    "m.add(tools.gdf2line(tools.points2gdf(stage1_camera_points), 'green'))\n",
    "\n",
    "m"
   ]
  },
  {
   "cell_type": "code",
   "execution_count": 5,
   "id": "4e57ab99-f7c5-4f4a-8b56-d5057aefc089",
   "metadata": {},
   "outputs": [
    {
     "name": "stdout",
     "output_type": "stream",
     "text": [
      "🚀 Export. Path and Variable: \n",
      "maps/notebook/data-output/gigerevo-stage1.js\n",
      "\n",
      "<script src=\"https://andrewalevin.github.io/maps/notebook/data-output/gigerevo-stage1.js\"></script>\n",
      "\n",
      "<script src=\"/Users/andrewlevin/Desktop/maps/notebook/data-output/gigerevo-stage1.js\"></script>\n",
      "\n"
     ]
    }
   ],
   "source": [
    "\n",
    "data_js = {\n",
    "    'duration': 5000,\n",
    "    'camera':{\n",
    "        'path': tools.round6(tools.reverse_coords(stage1_camera_points)),\n",
    "        'altitude': [900000, 100000],\n",
    "        'altitude_function': 'tanAndLinear',\n",
    "    },\n",
    "    'target': {\n",
    "        'path': tools.round6(tools.reverse_coords(tools.gdf2coords(stage1_target_gdf)))\n",
    "    }\n",
    "}\n",
    "\n",
    "tools.export_js_v5('gigerevo', 'stage1', data_js)"
   ]
  },
  {
   "cell_type": "code",
   "execution_count": null,
   "id": "43fcc57d-3a3e-45c1-accc-cf0c5720a657",
   "metadata": {},
   "outputs": [],
   "source": []
  },
  {
   "cell_type": "code",
   "execution_count": null,
   "id": "4db86f64-88f2-4aa2-8a92-b94eb2e398e8",
   "metadata": {},
   "outputs": [],
   "source": []
  },
  {
   "cell_type": "code",
   "execution_count": null,
   "id": "f1ebabb8-2183-4986-9fa8-310f8441e786",
   "metadata": {},
   "outputs": [],
   "source": []
  },
  {
   "cell_type": "code",
   "execution_count": 6,
   "id": "6f6b1715-81b2-479f-8cdd-7fb1c2a022f4",
   "metadata": {},
   "outputs": [],
   "source": [
    "# Stage 2\n"
   ]
  },
  {
   "cell_type": "code",
   "execution_count": 20,
   "id": "7921947a-0f0d-4f64-8c18-68d8f21afb0e",
   "metadata": {},
   "outputs": [
    {
     "name": "stdout",
     "output_type": "stream",
     "text": [
      "stage2 {'camera': array([55.565876, 36.566525]), 'target': array([55.585876, 36.566525])}\n"
     ]
    },
    {
     "data": {
      "application/vnd.jupyter.widget-view+json": {
       "model_id": "42e3c5ba7218482fa7ff69499fa6d92d",
       "version_major": 2,
       "version_minor": 0
      },
      "text/plain": [
       "Map(center=[55.751426, 37.618879], controls=(ZoomControl(options=['position', 'zoom_in_text', 'zoom_in_title',…"
      ]
     },
     "execution_count": 20,
     "metadata": {},
     "output_type": "execute_result"
    }
   ],
   "source": [
    "\n",
    "route_point = np.array([55.585876, 36.566525])\n",
    "\n",
    "stage1 = {\n",
    "    'camera': region_point + np.array([-1.5, 0]),\n",
    "    'target': region_point\n",
    "}\n",
    "\n",
    "stage2 = {\n",
    "    'camera': route_point + np.array([-0.02, 0]),\n",
    "    'target': route_point\n",
    "}\n",
    "\n",
    "stage2_camera_points = [\n",
    "    stage1['camera'],\n",
    "    stage1['camera'] + np.array([+0.01, 0]),\n",
    "    stage2['camera'] + np.array([-0.01, 0]),\n",
    "    stage2['camera']\n",
    "]\n",
    "stage2_camera_curve = tools.gdf2splines(tools.points2gdf(stage2_camera_points))\n",
    "m.add(tools.gdf2line(stage2_camera_curve, 'blueviolet'))\n",
    "\n",
    "\n",
    "stage2_target_points = [\n",
    "    stage1['target'],\n",
    "    stage2['target']\n",
    "]\n",
    "print('stage2', stage2)\n",
    "\n",
    "m = Map(center=region_point.tolist(), zoom=8, layout=Layout(width='100%', height='700px'))\n",
    "\n",
    "m.add(tools.gdf2line(tools.points2gdf(stage2_target_points), 'red'))\n",
    "\n",
    "m.add(tools.gdf2line(stage2_camera_curve, 'green'))\n",
    "\n",
    "m\n"
   ]
  },
  {
   "cell_type": "code",
   "execution_count": 21,
   "id": "a70c1de8-ad4b-47c8-bfa7-798dd52454dc",
   "metadata": {},
   "outputs": [
    {
     "name": "stdout",
     "output_type": "stream",
     "text": [
      "🚀 Export. Path and Variable: \n",
      "maps/notebook/data-output/gigerevo-stage2.js\n",
      "\n",
      "<script src=\"https://andrewalevin.github.io/maps/notebook/data-output/gigerevo-stage2.js\"></script>\n",
      "\n",
      "<script src=\"/Users/andrewlevin/Desktop/maps/notebook/data-output/gigerevo-stage2.js\"></script>\n",
      "\n"
     ]
    }
   ],
   "source": [
    "\n",
    "data_js = {\n",
    "    'duration': 5000,\n",
    "    'camera':{\n",
    "        'path': tools.round6(tools.reverse_coords(tools.gdf2coords(stage2_camera_curve))),\n",
    "        'altitude': [100000, 2000],\n",
    "        'altitude_function': 'atan',\n",
    "        'isSetPitchBearing': True,\n",
    "        'bearing': 0,\n",
    "        'pitch': None,\n",
    "    },\n",
    "    'target': {\n",
    "        'path': tools.round6(tools.reverse_coords(stage2_target_points))\n",
    "    }\n",
    "}\n",
    "\n",
    "tools.export_js_v5('gigerevo', 'stage2', data_js)\n"
   ]
  },
  {
   "cell_type": "code",
   "execution_count": null,
   "id": "ad33c491-6f9d-4bc5-9da2-b2850d0bb13f",
   "metadata": {},
   "outputs": [],
   "source": []
  },
  {
   "cell_type": "code",
   "execution_count": null,
   "id": "6a02b664-1463-4191-9864-4a0f494b9ac4",
   "metadata": {},
   "outputs": [],
   "source": []
  },
  {
   "cell_type": "code",
   "execution_count": null,
   "id": "93127260-85c2-486d-8624-e27119b22975",
   "metadata": {},
   "outputs": [],
   "source": []
  },
  {
   "cell_type": "code",
   "execution_count": null,
   "id": "e6870664-c83f-410c-9aa8-c19ed721ce52",
   "metadata": {},
   "outputs": [],
   "source": []
  },
  {
   "cell_type": "code",
   "execution_count": null,
   "id": "92d4e5c5-2eca-4b16-9261-e1a9e739d150",
   "metadata": {},
   "outputs": [],
   "source": []
  },
  {
   "cell_type": "code",
   "execution_count": 10,
   "id": "76ebb661-c615-44d3-aa81-b4f9f37ff5a5",
   "metadata": {},
   "outputs": [],
   "source": [
    "# Stage 3\n"
   ]
  },
  {
   "cell_type": "code",
   "execution_count": 11,
   "id": "478182d2-c750-411c-9b63-f2be18fb4236",
   "metadata": {},
   "outputs": [
    {
     "data": {
      "application/vnd.jupyter.widget-view+json": {
       "model_id": "52b3e5fa908b426585548959fc598147",
       "version_major": 2,
       "version_minor": 0
      },
      "text/plain": [
       "Map(center=[55.751426, 37.618879], controls=(ZoomControl(options=['position', 'zoom_in_text', 'zoom_in_title',…"
      ]
     },
     "execution_count": 11,
     "metadata": {},
     "output_type": "execute_result"
    }
   ],
   "source": [
    "\n",
    "route_point = np.array([55.585876, 36.566525])\n",
    "route_point_final = np.array([55.585876, 36.566525])\n",
    "\n",
    "station_camera_point = np.array([55.70112457560924, 36.9328032880394])\n",
    "station_camera_altitude = 2000\n",
    "\n",
    "station_target_point = np.array([55.69673155590328, 36.87618049511909])\n",
    "\n",
    "\n",
    "stage3_target_points = [\n",
    "    stage2['target'],\n",
    "    station_target_point\n",
    "]\n",
    "\n",
    "stage3_camera_points = [\n",
    "    stage2['camera'],\n",
    "    station_camera_point\n",
    "]\n",
    "\n",
    "\n",
    "m = Map(center=region_point.tolist(), zoom=8, layout=Layout(width='100%', height='700px'))\n",
    "\n",
    "m.add(tools.gdf2line(tools.points2gdf(stage3_camera_points), 'red'))\n",
    "\n",
    "m.add(tools.gdf2line(tools.points2gdf(stage3_target_points), 'green'))\n",
    "\n",
    "m\n"
   ]
  },
  {
   "cell_type": "code",
   "execution_count": 12,
   "id": "1b4db167-aed7-4b78-87f3-e0c842a17fa3",
   "metadata": {},
   "outputs": [
    {
     "name": "stdout",
     "output_type": "stream",
     "text": [
      "🚀 Export. Path and Variable: \n",
      "maps/notebook/data-output/gigerevo-stage3.js\n",
      "\n",
      "<script src=\"https://andrewalevin.github.io/maps/notebook/data-output/gigerevo-stage3.js\"></script>\n",
      "\n",
      "<script src=\"/Users/andrewlevin/Desktop/maps/notebook/data-output/gigerevo-stage3.js\"></script>\n",
      "\n"
     ]
    }
   ],
   "source": [
    "\n",
    "data_js = {\n",
    "    'duration': 5000,\n",
    "    'camera':{\n",
    "        'path': tools.round6(tools.reverse_coords(stage3_camera_points)),\n",
    "        'altitude': [2000, 2000],\n",
    "        'altitude_function': 'linear'\n",
    "    },\n",
    "    'target': {\n",
    "        'path': tools.round6(tools.reverse_coords(stage3_target_points))\n",
    "    }\n",
    "}\n",
    "\n",
    "tools.export_js_v5('gigerevo', 'stage3', data_js)\n"
   ]
  },
  {
   "cell_type": "code",
   "execution_count": null,
   "id": "c0255fd7-cd62-4767-a47f-bf867353fabc",
   "metadata": {},
   "outputs": [],
   "source": []
  },
  {
   "cell_type": "code",
   "execution_count": null,
   "id": "63a88e87-6033-43f4-8eb4-cbceae9ab72a",
   "metadata": {},
   "outputs": [],
   "source": []
  },
  {
   "cell_type": "code",
   "execution_count": null,
   "id": "56f7174e-6c38-4940-9cbe-f2680bcc59aa",
   "metadata": {},
   "outputs": [],
   "source": []
  },
  {
   "cell_type": "code",
   "execution_count": null,
   "id": "ad15180d-b0b6-4c8c-a24a-cc9e9623ce86",
   "metadata": {},
   "outputs": [],
   "source": []
  },
  {
   "cell_type": "code",
   "execution_count": 13,
   "id": "761af6fa-526f-40f3-8f0e-4dda9df0ccd4",
   "metadata": {},
   "outputs": [],
   "source": [
    "# Stage 4\n"
   ]
  },
  {
   "cell_type": "code",
   "execution_count": 14,
   "id": "ed5715f8-24f6-486c-8ab4-cc2042273038",
   "metadata": {},
   "outputs": [
    {
     "data": {
      "application/vnd.jupyter.widget-view+json": {
       "model_id": "cf0857c0e3c34690b937dc23fc7384b9",
       "version_major": 2,
       "version_minor": 0
      },
      "text/plain": [
       "Map(center=[55.659054, 36.724526], controls=(ZoomControl(options=['position', 'zoom_in_text', 'zoom_in_title',…"
      ]
     },
     "execution_count": 14,
     "metadata": {},
     "output_type": "execute_result"
    }
   ],
   "source": [
    "\n",
    "wholemap_target_point = np.array([55.659054, 36.724526])\n",
    "\n",
    "stage4_target_points = [\n",
    "    station_target_point,\n",
    "    wholemap_target_point\n",
    "]\n",
    "\n",
    "stage4_camera_points = [\n",
    "    station_camera_point,\n",
    "    wholemap_target_point + np.array([-0.3, 0])\n",
    "]\n",
    "\n",
    "stage4_camera_curve_points = [\n",
    "    station_camera_point,\n",
    "    station_camera_point + np.array([-0.05, 0]),\n",
    "    wholemap_target_point + np.array([-0.25, 0]),\n",
    "    wholemap_target_point + np.array([-0.3, 0])\n",
    "]\n",
    "\n",
    "\n",
    "stage4_camera_curve = tools.gdf2splines(tools.points2gdf(stage4_camera_curve_points))\n",
    "\n",
    "m = Map(center=wholemap_target_point.tolist(), zoom=10, layout=Layout(width='100%', height='700px'))\n",
    "\n",
    "m.add(tools.gdf2line(tools.points2gdf(stage4_target_points), 'green'))\n",
    "\n",
    "m.add(tools.gdf2line(tools.points2gdf(stage4_camera_points), 'red'))\n",
    "\n",
    "m.add(tools.gdf2line(stage4_camera_curve, 'blue'))\n",
    "\n",
    "m\n"
   ]
  },
  {
   "cell_type": "code",
   "execution_count": 16,
   "id": "b142a3e9-8a8c-451e-aa34-bbf0b74d3242",
   "metadata": {},
   "outputs": [
    {
     "name": "stdout",
     "output_type": "stream",
     "text": [
      "🚀 Export. Path and Variable: \n",
      "maps/notebook/data-output/gigerevo-stage4.js\n",
      "\n",
      "<script src=\"https://andrewalevin.github.io/maps/notebook/data-output/gigerevo-stage4.js\"></script>\n",
      "\n",
      "<script src=\"/Users/andrewlevin/Desktop/maps/notebook/data-output/gigerevo-stage4.js\"></script>\n",
      "\n"
     ]
    }
   ],
   "source": [
    "\n",
    "data_js = {\n",
    "    'duration': 5000,\n",
    "    'target': {\n",
    "        'path': tools.round6(tools.reverse_coords(stage4_target_points))\n",
    "    },\n",
    "    'camera':{\n",
    "        'path': tools.round6(tools.reverse_coords(tools.gdf2coords(stage4_camera_curve))),\n",
    "        'altitude': [2000, 70000],\n",
    "        'altitude_function': 'atan'\n",
    "    },\n",
    "}\n",
    "\n",
    "tools.export_js_v5('gigerevo', 'stage4', data_js)\n"
   ]
  },
  {
   "cell_type": "code",
   "execution_count": null,
   "id": "beaa0b33-9c5b-49ce-8da0-fcbc3206ea8b",
   "metadata": {},
   "outputs": [],
   "source": []
  }
 ],
 "metadata": {
  "kernelspec": {
   "display_name": "Python 3 (ipykernel)",
   "language": "python",
   "name": "python3"
  },
  "language_info": {
   "codemirror_mode": {
    "name": "ipython",
    "version": 3
   },
   "file_extension": ".py",
   "mimetype": "text/x-python",
   "name": "python",
   "nbconvert_exporter": "python",
   "pygments_lexer": "ipython3",
   "version": "3.12.0"
  }
 },
 "nbformat": 4,
 "nbformat_minor": 5
}
