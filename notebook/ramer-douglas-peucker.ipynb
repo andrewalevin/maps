{
 "cells": [
  {
   "cell_type": "code",
   "execution_count": 2,
   "id": "0874f8c0-7208-43ff-bc69-7774a8a7b128",
   "metadata": {},
   "outputs": [
    {
     "name": "stdout",
     "output_type": "stream",
     "text": [
      "[[1, 1], [4, 4]]\n"
     ]
    }
   ],
   "source": [
    "from rdp import rdp\n",
    "result = rdp([[1, 1], [2, 2], [3, 3], [4, 4]])\n",
    "[[1, 1], [4, 4]]\n",
    "\n",
    "\n",
    "print(result)"
   ]
  },
  {
   "cell_type": "code",
   "execution_count": 4,
   "id": "e5cfbd9a-ff8f-4f35-bb4d-67dc47d9834a",
   "metadata": {},
   "outputs": [],
   "source": [
    "\n",
    "# Гигерево\n",
    "p1 = [55.696271, 36.699041]\n",
    "\n",
    "# АФН РАН\n",
    "p2 = [55.695827, 36.757482]\n",
    "\n",
    "#  Ниже симы\n",
    "p3 = [55.662255, 36.705414]\n",
    "\n",
    "\n",
    "# Distance to liane 3.75\n"
   ]
  },
  {
   "cell_type": "code",
   "execution_count": 5,
   "id": "0154b914-1a08-4375-b5e6-459d473a2e52",
   "metadata": {},
   "outputs": [
    {
     "name": "stdout",
     "output_type": "stream",
     "text": [
      "distance:  3808.366372624326\n"
     ]
    }
   ],
   "source": [
    "import geopy.distance\n",
    "\n",
    "dist = geopy.distance.geodesic(p1, p3).m\n",
    "print('distance: ', dist)"
   ]
  },
  {
   "cell_type": "code",
   "execution_count": 7,
   "id": "6d8ca51a-097d-41ce-b987-27dce14c6f7b",
   "metadata": {},
   "outputs": [
    {
     "ename": "SyntaxError",
     "evalue": "invalid syntax (525519296.py, line 1)",
     "output_type": "error",
     "traceback": [
      "\u001b[0;36m  Cell \u001b[0;32mIn[7], line 1\u001b[0;36m\u001b[0m\n\u001b[0;31m    |\u001b[0m\n\u001b[0m    ^\u001b[0m\n\u001b[0;31mSyntaxError\u001b[0m\u001b[0;31m:\u001b[0m invalid syntax\n"
     ]
    }
   ],
   "source": [
    "|"
   ]
  },
  {
   "cell_type": "code",
   "execution_count": null,
   "id": "4033a151-b934-4de6-8ad8-42238d4ba2ac",
   "metadata": {},
   "outputs": [],
   "source": []
  }
 ],
 "metadata": {
  "kernelspec": {
   "display_name": "Python 3 (ipykernel)",
   "language": "python",
   "name": "python3"
  },
  "language_info": {
   "codemirror_mode": {
    "name": "ipython",
    "version": 3
   },
   "file_extension": ".py",
   "mimetype": "text/x-python",
   "name": "python",
   "nbconvert_exporter": "python",
   "pygments_lexer": "ipython3",
   "version": "3.12.0"
  }
 },
 "nbformat": 4,
 "nbformat_minor": 5
}
