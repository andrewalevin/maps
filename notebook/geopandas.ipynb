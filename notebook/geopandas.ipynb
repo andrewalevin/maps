{
 "cells": [
  {
   "cell_type": "code",
   "execution_count": 1,
   "id": "3978c768-9586-4e75-bf5b-405d029bf1d2",
   "metadata": {},
   "outputs": [],
   "source": [
    "import tools"
   ]
  },
  {
   "cell_type": "code",
   "execution_count": 4,
   "id": "2cc7a178-f36c-49d4-8ad4-757bf3d6cc5a",
   "metadata": {},
   "outputs": [],
   "source": [
    "gpx_filename = 'data-input/28may2021.gpx'"
   ]
  },
  {
   "cell_type": "code",
   "execution_count": null,
   "id": "31e0f05f-a2f9-4bf8-a99e-3b96d3f93b86",
   "metadata": {},
   "outputs": [],
   "source": []
  },
  {
   "cell_type": "code",
   "execution_count": 7,
   "id": "88efd30c-d36f-46ef-b41b-6ded6d68ae52",
   "metadata": {},
   "outputs": [],
   "source": [
    "import geopandas as gpd\n",
    "from shapely.geometry import LineString, Point\n",
    "\n",
    "data_activity = tools.getActivityDataFromGpxFile(gpx_filename)\n",
    "points_full = data_activity['tracks'][0]['segments'][0]['points']\n",
    " \n",
    "points = [point[:2] for point in points_full]\n",
    "gdf = gpd.GeoDataFrame(geometry=[LineString(points)])"
   ]
  },
  {
   "cell_type": "code",
   "execution_count": null,
   "id": "23d02724-bd85-4982-a7cf-628ac02eca50",
   "metadata": {},
   "outputs": [],
   "source": []
  },
  {
   "cell_type": "code",
   "execution_count": 7,
   "id": "01a1518e-fd2c-472f-80b8-cae4f5748b5f",
   "metadata": {},
   "outputs": [],
   "source": []
  },
  {
   "cell_type": "code",
   "execution_count": 10,
   "id": "53ad0379-2815-42d3-84d9-d45c238948e7",
   "metadata": {},
   "outputs": [],
   "source": [
    "from ipyleaflet import Map, Polyline\n",
    "from ipywidgets import Layout"
   ]
  },
  {
   "cell_type": "code",
   "execution_count": 11,
   "id": "f40768df-ed76-40b5-9ec8-db1e57e06636",
   "metadata": {},
   "outputs": [
    {
     "name": "stdout",
     "output_type": "stream",
     "text": [
      "Simplify Coords count:  11589  ->  10969\n",
      "Tolerance:  1e-07\n",
      "\n",
      "Simplify Coords count:  10969  ->  7676\n",
      "Tolerance:  1e-06\n",
      "\n",
      "Simplify Coords count:  7676  ->  1977\n",
      "Tolerance:  1e-05\n",
      "\n",
      "Simplify Coords count:  1977  ->  386\n",
      "Tolerance:  0.0001\n",
      "\n",
      "Simplify Coords count:  386  ->  379\n",
      "Tolerance:  0.0001\n",
      "\n",
      "Simplify Coords count:  379  ->  13\n",
      "Tolerance:  0.01\n",
      "\n"
     ]
    },
    {
     "data": {
      "application/vnd.jupyter.widget-view+json": {
       "model_id": "e65cb023a35c4bb68bac97bf1cde6405",
       "version_major": 2,
       "version_minor": 0
      },
      "text/plain": [
       "Map(center=[55.67781692843676, 36.71038865754297], controls=(ZoomControl(options=['position', 'zoom_in_text', …"
      ]
     },
     "execution_count": 11,
     "metadata": {},
     "output_type": "execute_result"
    }
   ],
   "source": [
    "gdf1 = tools.simplify(gdf,  tolerance=0.0000001)\n",
    "gdf2 = tools.simplify(gdf1, tolerance=0.000001)\n",
    "gdf3 = tools.simplify(gdf2, tolerance=0.00001)\n",
    "gdf4 = tools.simplify(gdf3, tolerance=0.0001)\n",
    "gdf5 = tools.simplify(gdf4, tolerance=0.0001)\n",
    "gdf9 = tools.simplify(gdf5, tolerance=0.01)\n",
    "\n",
    "gdf_spline = tools.gdf2splines(gdf9)\n",
    "\n",
    "\n",
    "m = Map(center=tools.gdf2centroid(gdf9), zoom=13, layout=Layout(width='100%', height='700px'))\n",
    "\n",
    "m.add(tools.gdf2line(gdf1, 'navy'))\n",
    "m.add(tools.gdf2line(gdf5, 'yellow'))\n",
    "\n",
    "m.add(tools.gdf2line(gdf9, 'red'))\n",
    "\n",
    "m.add(tools.gdf2line(gdf_spline, 'green'))\n",
    "m\n"
   ]
  },
  {
   "cell_type": "code",
   "execution_count": null,
   "id": "9927e837-8a59-4600-bb1b-079500e7bc6d",
   "metadata": {},
   "outputs": [],
   "source": [
    "from datetime import datetime\n",
    "\n",
    "tools.gdf_reverse_coords(gdf5).to_file(f'data-output/zvenigorod-route-{int(datetime.now().timestamp())}.geojson', driver='GeoJSON')\n"
   ]
  },
  {
   "cell_type": "code",
   "execution_count": null,
   "id": "5a21cd29-7376-488f-a901-c17365ac77c3",
   "metadata": {},
   "outputs": [],
   "source": []
  },
  {
   "cell_type": "code",
   "execution_count": null,
   "id": "1bcb16e5-9c5b-4163-8e55-bdc442ae8521",
   "metadata": {},
   "outputs": [],
   "source": []
  },
  {
   "cell_type": "code",
   "execution_count": 28,
   "id": "8fe3d3af-dd73-42a9-83ce-53ae0a35326a",
   "metadata": {},
   "outputs": [
    {
     "data": {
      "application/vnd.jupyter.widget-view+json": {
       "model_id": "e65cb023a35c4bb68bac97bf1cde6405",
       "version_major": 2,
       "version_minor": 0
      },
      "text/plain": [
       "Map(bottom=41872.0, center=[54.89872361296002, 38.08410644531251], controls=(ZoomControl(options=['position', …"
      ]
     },
     "execution_count": 28,
     "metadata": {},
     "output_type": "execute_result"
    }
   ],
   "source": [
    "camera_points = [\n",
    "    (55.563636, 36.592460),\n",
    "    (55.575730, 36.530853),\n",
    "    (55.608732, 36.548689),\n",
    "    (55.634572, 36.640942),\n",
    "    (55.707225, 36.652690),\n",
    "    (55.705424, 36.714075),\n",
    "    (55.705150, 36.807214),\n",
    "    (55.692771, 36.824143),\n",
    "    (55.701127, 36.932805),\n",
    "]\n",
    "\n",
    "gdf_camera_spliens = tools.gdf2splines(tools.points2gdf(camera_points))\n",
    "\n",
    "m.add(tools.gdf2line(gdf_camera_spliens, 'magenta'))\n",
    "m"
   ]
  },
  {
   "cell_type": "code",
   "execution_count": 29,
   "id": "a24ec518-2ddf-4719-ae5d-ab96c3acf241",
   "metadata": {},
   "outputs": [
    {
     "data": {
      "text/plain": [
       "PosixPath('data-output/zvenigorod-camera-1712171569.js')"
      ]
     },
     "execution_count": 29,
     "metadata": {},
     "output_type": "execute_result"
    }
   ],
   "source": [
    "import string\n",
    "import utils\n",
    "from datetime import datetime\n",
    "\n",
    "# Make json\n",
    "\n",
    "js_file_template = string.Template('''\n",
    "const routes = {\n",
    "    target: [\n",
    "    $target\n",
    "],\n",
    "    camera: [\n",
    "    $camera\n",
    "    ]\n",
    "};\n",
    "''')\n",
    "\n",
    "\n",
    "text = js_file_template.substitute(\n",
    "    target = ',\\n'.join([f'\\t\\t[{c[0]}, {c[1]}]' for c in gdf2coords(gdf_reverse_coords(gdf_spline2))]),\n",
    "    camera = ',\\n'.join([f'\\t\\t[{c[0]}, {c[1]}]' for c in gdf2coords(gdf_reverse_coords(gdf_camera_spliens))])\n",
    ")\n",
    "\n",
    "utils.write_file(f'data-output/zvenigorod-camera-{int(datetime.now().timestamp())}.js', text)\n"
   ]
  },
  {
   "cell_type": "code",
   "execution_count": 67,
   "id": "b94c29dc-9333-4b16-a042-1830f3cf959e",
   "metadata": {},
   "outputs": [
    {
     "name": "stdout",
     "output_type": "stream",
     "text": [
      "🚀 Export. Path and Variable: \n",
      "maps/notebook/data-output/mskappr-camera.js\n",
      "cameraCoordinates\n"
     ]
    }
   ],
   "source": [
    "\n",
    "export_js('mskappr', 'camera', camera_points)"
   ]
  },
  {
   "cell_type": "code",
   "execution_count": null,
   "id": "27c18589-0d8e-4ca7-931d-701e87187c6d",
   "metadata": {},
   "outputs": [],
   "source": []
  },
  {
   "cell_type": "code",
   "execution_count": null,
   "id": "352fa06f-e124-42d8-bd7f-1c8358159d78",
   "metadata": {},
   "outputs": [],
   "source": []
  },
  {
   "cell_type": "code",
   "execution_count": null,
   "id": "5e1e53cd-72c3-4641-bfb3-17826fd4d12d",
   "metadata": {},
   "outputs": [],
   "source": []
  },
  {
   "cell_type": "code",
   "execution_count": null,
   "id": "e249840d-325b-48eb-8cd9-29aef53d609a",
   "metadata": {},
   "outputs": [],
   "source": []
  },
  {
   "cell_type": "code",
   "execution_count": null,
   "id": "195772ff-1683-4350-8e00-41f244a2deaa",
   "metadata": {},
   "outputs": [],
   "source": []
  },
  {
   "cell_type": "code",
   "execution_count": null,
   "id": "82aac48a-6008-4a10-a558-9a4270fa10eb",
   "metadata": {},
   "outputs": [],
   "source": [
    "import math\n",
    "\n",
    "st_cam_points = [\n",
    "    (55.577952, 36.515800),\\\n",
    "    (55.690757, 36.825998),\n",
    "]\n",
    "print(st_cam_points)\n",
    "print()\n",
    "\n",
    "dgf_st_cam = gpd.GeoDataFrame({'geometry': [LineString(st_cam_points)]})\n",
    "print(dgf_st_cam)\n",
    "\n",
    "\n",
    "delta = 0.02\n",
    "\n",
    "st_target_points = [(round(p[0]+delta, 6), round(p[1]-delta, 6))for p in st_cam_points]\n",
    "print(st_target_points)\n",
    "print()\n",
    "\n",
    "dgf_st_target = gpd.GeoDataFrame({'geometry': [LineString(st_target_points)]})\n",
    "print(dgf_st_target)\n",
    "\n",
    "\n",
    "m_st = Map(center=gdf2centroid(gdf9), zoom=11)\n",
    "m_st.add(gdf2line(dgf_st_cam, 'cyan'))\n",
    "m_st.add(gdf2line(dgf_st_target, 'lime'))\n",
    "m_st\n",
    "\n"
   ]
  },
  {
   "cell_type": "code",
   "execution_count": 42,
   "id": "00908f9f-5a05-4f37-8710-af5e4765b5f2",
   "metadata": {},
   "outputs": [
    {
     "data": {
      "text/plain": [
       "PosixPath('data-output/st-line-1712168373.js')"
      ]
     },
     "execution_count": 42,
     "metadata": {},
     "output_type": "execute_result"
    }
   ],
   "source": [
    "\n",
    "\n",
    "text = js_file_template.substitute(\n",
    "    target = ',\\n'.join([f'\\t\\t[{c[0]}, {c[1]}]' for c in gdf2coords(gdf_reverse_coords(dgf_st_target))]),\n",
    "    camera = ',\\n'.join([f'\\t\\t[{c[0]}, {c[1]}]' for c in gdf2coords(gdf_reverse_coords(dgf_st_cam))])\n",
    ")\n",
    "\n",
    "utils.write_file(f'data-output/st-line-{int(datetime.now().timestamp())}.js', text)"
   ]
  },
  {
   "cell_type": "code",
   "execution_count": null,
   "id": "ae7b553a-8d61-46d9-bef7-43554939ae06",
   "metadata": {},
   "outputs": [],
   "source": []
  },
  {
   "cell_type": "code",
   "execution_count": null,
   "id": "add9228a-ea86-4f50-bc32-160c8d3c8500",
   "metadata": {},
   "outputs": [],
   "source": []
  },
  {
   "cell_type": "code",
   "execution_count": null,
   "id": "58b4818a-6e9b-4427-8fa7-48521735222f",
   "metadata": {},
   "outputs": [],
   "source": []
  },
  {
   "cell_type": "code",
   "execution_count": null,
   "id": "bdacff4c-0d87-45e7-9130-79e0f1f4b074",
   "metadata": {},
   "outputs": [],
   "source": []
  },
  {
   "cell_type": "code",
   "execution_count": null,
   "id": "de51a084-1b89-4e56-acf7-07cce01bb37c",
   "metadata": {},
   "outputs": [],
   "source": []
  },
  {
   "cell_type": "code",
   "execution_count": 15,
   "id": "2b7ea725-1822-4960-bee6-94b185d6582f",
   "metadata": {},
   "outputs": [
    {
     "name": "stdout",
     "output_type": "stream",
     "text": [
      "[(55.585876, 36.566525), (55.584892, 36.570239), (55.599562, 36.600785), (55.63986, 36.582073), (55.646723, 36.635482), (55.675792, 36.688909), (55.703134, 36.679394), (55.707225, 36.75802), (55.722355, 36.761598), (55.708746, 36.801406), (55.730646, 36.840554), (55.700564, 36.881551), (55.692896, 36.87081)]\n"
     ]
    }
   ],
   "source": [
    "red_coords = gdf2coords(gdf9)\n",
    "print(red_coords)"
   ]
  },
  {
   "cell_type": "code",
   "execution_count": 24,
   "id": "1007b1c9-4c2f-4b59-ad38-2c4ab4c8017b",
   "metadata": {},
   "outputs": [
    {
     "name": "stdout",
     "output_type": "stream",
     "text": [
      "[(55.585384, 36.568382), (55.592227, 36.585512), (55.619711, 36.591429), (55.643292, 36.608778), (55.661258, 36.662196), (55.689463, 36.684151), (55.705179, 36.718707), (55.71479, 36.759809), (55.71555, 36.781502), (55.719696, 36.82098), (55.715605, 36.861052), (55.69673, 36.876181)]\n"
     ]
    },
    {
     "data": {
      "application/vnd.jupyter.widget-view+json": {
       "model_id": "dc2e8fcbd66148e2a773f9d13b07db77",
       "version_major": 2,
       "version_minor": 0
      },
      "text/plain": [
       "Map(center=[55.67781692843676, 36.71038865754297], controls=(ZoomControl(options=['position', 'zoom_in_text', …"
      ]
     },
     "execution_count": 24,
     "metadata": {},
     "output_type": "execute_result"
    }
   ],
   "source": [
    "centers = []\n",
    "\n",
    "for idx, p in enumerate(red_coords):\n",
    "    if idx == 0:\n",
    "        continue\n",
    "\n",
    "    c0 = (red_coords[idx-1][0] + red_coords[idx][0] )/2\n",
    "    c1 = (red_coords[idx-1][1] + red_coords[idx][1] )/2\n",
    "    centers.append((round(c0, 6), round(c1, 6)))\n",
    "\n",
    "print(centers)\n",
    "\n",
    "gdf_spline2 = gdf2splines(points2gdf(centers))\n",
    "\n",
    "m_center = Map(center=gdf2centroid(gdf9), zoom=11)\n",
    "\n",
    "m_center.add(gdf2line(gdf9, 'red'))\n",
    "m_center.add(gdf2line(gdf_spline2, 'orange'))\n",
    "m_center"
   ]
  },
  {
   "cell_type": "code",
   "execution_count": null,
   "id": "0bbaef1f-c2ff-4ef9-b195-df6478df5d5c",
   "metadata": {},
   "outputs": [],
   "source": []
  },
  {
   "cell_type": "code",
   "execution_count": null,
   "id": "6fb17910-6a06-4ee4-9368-5ee5fc863701",
   "metadata": {},
   "outputs": [],
   "source": []
  },
  {
   "cell_type": "code",
   "execution_count": null,
   "id": "cc80ef83-5921-41d3-bc5c-c96eedea2793",
   "metadata": {},
   "outputs": [],
   "source": []
  },
  {
   "cell_type": "code",
   "execution_count": null,
   "id": "03f4cd80-6fa3-4f4f-8dbf-b0d0158d8844",
   "metadata": {},
   "outputs": [],
   "source": []
  },
  {
   "cell_type": "code",
   "execution_count": null,
   "id": "77074196-8e93-412d-86e7-af7fc5fa5ce6",
   "metadata": {},
   "outputs": [],
   "source": []
  },
  {
   "cell_type": "code",
   "execution_count": null,
   "id": "11d5792f-16df-4d08-bd84-a1f0964e2f20",
   "metadata": {},
   "outputs": [],
   "source": []
  },
  {
   "cell_type": "code",
   "execution_count": null,
   "id": "8673a920-f98d-4904-afc4-26ccbbdfb0f0",
   "metadata": {},
   "outputs": [],
   "source": []
  },
  {
   "cell_type": "code",
   "execution_count": null,
   "id": "89c78a43-7934-4e5b-84e0-d5a153ef40c7",
   "metadata": {},
   "outputs": [],
   "source": [
    "# altitide\n",
    "\n",
    "\n",
    "\n",
    "alts = [\n",
    "    \n",
    "]"
   ]
  },
  {
   "cell_type": "code",
   "execution_count": null,
   "id": "48f8e67e-597e-460c-a89b-37bac476ab04",
   "metadata": {},
   "outputs": [],
   "source": [
    "import numpy as np\n",
    "from scipy.interpolate import CubicSpline\n",
    "import matplotlib.pyplot as plt\n",
    "\n",
    "# Generate some sample data points\n",
    "x = np.array([0, 1, 2, 3, 4, 5])\n",
    "\n",
    "y = np.array([0, 1, 4, 9, 16, 25])\n",
    "\n",
    "# Create a cubic spline interpolation function\n",
    "cs = CubicSpline(x, y)\n",
    "\n",
    "# Generate points for plotting the spline\n",
    "x_interp = np.linspace(0, 5, 100)\n",
    "y_interp = cs(x_interp)\n",
    "\n",
    "# Plot original data points and the cubic spline\n",
    "plt.scatter(x, y, label='Data Points')\n",
    "plt.plot(x_interp, y_interp, label='Cubic Spline', color='red')\n",
    "plt.xlabel('X')\n",
    "plt.ylabel('Y')\n",
    "plt.title('Cubic Spline Interpolation')\n",
    "plt.legend()\n",
    "plt.grid(True)\n",
    "plt.show()"
   ]
  },
  {
   "cell_type": "code",
   "execution_count": null,
   "id": "58214b41-8f60-4833-adf6-1164aab5cb8e",
   "metadata": {},
   "outputs": [],
   "source": [
    "print(1+2)"
   ]
  },
  {
   "cell_type": "code",
   "execution_count": null,
   "id": "281177a1-cf9a-4657-9782-a82c278e0efc",
   "metadata": {},
   "outputs": [],
   "source": []
  }
 ],
 "metadata": {
  "kernelspec": {
   "display_name": "Python 3 (ipykernel)",
   "language": "python",
   "name": "python3"
  },
  "language_info": {
   "codemirror_mode": {
    "name": "ipython",
    "version": 3
   },
   "file_extension": ".py",
   "mimetype": "text/x-python",
   "name": "python",
   "nbconvert_exporter": "python",
   "pygments_lexer": "ipython3",
   "version": "3.12.0"
  }
 },
 "nbformat": 4,
 "nbformat_minor": 5
}
