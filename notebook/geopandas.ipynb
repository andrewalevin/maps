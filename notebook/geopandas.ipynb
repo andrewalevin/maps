{
 "cells": [
  {
   "cell_type": "code",
   "execution_count": null,
   "id": "3978c768-9586-4e75-bf5b-405d029bf1d2",
   "metadata": {},
   "outputs": [],
   "source": []
  },
  {
   "cell_type": "code",
   "execution_count": 1,
   "id": "2cc7a178-f36c-49d4-8ad4-757bf3d6cc5a",
   "metadata": {},
   "outputs": [],
   "source": [
    "gpx_filename = 'data-input/28may2021.gpx'"
   ]
  },
  {
   "cell_type": "code",
   "execution_count": 2,
   "id": "31e0f05f-a2f9-4bf8-a99e-3b96d3f93b86",
   "metadata": {},
   "outputs": [],
   "source": [
    "import os\n",
    "\n",
    "from os.path import isfile, join, isdir, dirname, abspath\n",
    "from os import listdir\n",
    "import gpxpy\n",
    "import gpxpy.gpx\n",
    "\n",
    "import geopandas as gpd\n",
    "from shapely.geometry import LineString\n",
    "\n",
    "\n",
    "def parseActivityDataInGpxData(gpx =  None):\n",
    "    if not gpx:\n",
    "        return None\n",
    "\n",
    "    activity = {}\n",
    "    activity['time'] = gpx.time\n",
    "    activity['link'] = gpx.link\n",
    "    tracks = []\n",
    "    for track_item in gpx.tracks:\n",
    "        track = {}\n",
    "        \n",
    "        track['name'] = track_item.name\n",
    "        track['type'] = track_item.type\n",
    "        segments = []\n",
    "        for segment_item in track_item.segments:\n",
    "            segment = {}\n",
    "            points = []\n",
    "            for point_item in segment_item.points:\n",
    "                point = []\n",
    "                #print(point_item)\n",
    "                #point.append(point.time)\n",
    "                point.append(float(point_item.latitude))\n",
    "                point.append(float(point_item.longitude))\n",
    "                point.append(float(point_item.elevation))\n",
    "                points.append(point)\n",
    "            segment['points'] = points\n",
    "            segments.append(segment)\n",
    "        track['segments'] = segments\n",
    "        tracks.append(track)\n",
    "    activity['tracks'] = tracks\n",
    "    \n",
    "    return activity\n",
    "    \n",
    "\n",
    "def getActivityDataFromGpxFile(file_path):\n",
    "    if not isfile(file_path):\n",
    "        return None\n",
    "    \n",
    "    #print('file_path', file_path)\n",
    "    file_handle = open(file_path, \"r\")\n",
    "    gpx_data = gpxpy.parse(file_handle)\n",
    "    file_handle.close()\n",
    "    \n",
    "    activity_data = parseActivityDataInGpxData(gpx_data)\n",
    "    \n",
    "    return activity_data\n"
   ]
  },
  {
   "cell_type": "code",
   "execution_count": 3,
   "id": "88efd30c-d36f-46ef-b41b-6ded6d68ae52",
   "metadata": {},
   "outputs": [],
   "source": [
    "data_activity = getActivityDataFromGpxFile(gpx_filename)\n",
    "points_full = data_activity['tracks'][0]['segments'][0]['points']\n",
    " \n",
    "points = [point[:2] for point in points_full]\n",
    "gdf = gpd.GeoDataFrame(geometry=[LineString(points)])"
   ]
  },
  {
   "cell_type": "code",
   "execution_count": null,
   "id": "23d02724-bd85-4982-a7cf-628ac02eca50",
   "metadata": {},
   "outputs": [],
   "source": []
  },
  {
   "cell_type": "code",
   "execution_count": 4,
   "id": "01a1518e-fd2c-472f-80b8-cae4f5748b5f",
   "metadata": {},
   "outputs": [],
   "source": [
    "from ipyleaflet import Map, Polyline\n",
    "from ipywidgets import Layout\n",
    "\n",
    "\n",
    "import geopandas as gpd\n",
    "from shapely.geometry import LineString, Point\n",
    "from scipy.interpolate import splprep, splev\n",
    "import numpy as np\n",
    "import matplotlib.pyplot as plt\n"
   ]
  },
  {
   "cell_type": "code",
   "execution_count": 5,
   "id": "53ad0379-2815-42d3-84d9-d45c238948e7",
   "metadata": {},
   "outputs": [],
   "source": [
    "def simplify(gdf, tolerance=0.001):\n",
    "    gdf_simplified = gdf.simplify(tolerance)\n",
    "    print('Simplify Coords count: ', len(gdf.geometry.iloc[0].coords), ' -> ', len(gdf_simplified.geometry.iloc[0].coords))\n",
    "    print('Tolerance: ', tolerance)\n",
    "    print()\n",
    "    \n",
    "    return gdf_simplified\n",
    "\n",
    "\n",
    "def gdf2line(_gdf, color='red'):\n",
    "    return Polyline(locations=list(_gdf.geometry.iloc[0].coords), color=color, fill=False)\n",
    "\n",
    "\n",
    "def gdf2centroid(_gdf):\n",
    "    return list(_gdf.centroid[0].coords)[0]\n",
    "    \n",
    "\n",
    "def gdf2splines(_gdf):\n",
    "    _points = list(_gdf.geometry.iloc[0].coords)\n",
    "    \n",
    "    # Fit spline through points\n",
    "    tck, _ = splprep(np.array(_points).T, s=0.0)\n",
    "    \n",
    "    # Evaluate spline at a higher resolution\n",
    "    u_new = np.linspace(0, 1, 1000)\n",
    "    spline_points = splev(u_new, tck)\n",
    "    \n",
    "    # Convert spline points to Shapely Point objects\n",
    "    point_geoms = [Point(x, y) for x, y in zip(*spline_points)]\n",
    "    \n",
    "    return gpd.GeoDataFrame(geometry=[LineString(point_geoms)])\n",
    "\n",
    "\n",
    "def gdf_reverse_coords(_gdf):\n",
    "    return gpd.GeoDataFrame({'geometry': [LineString([(c2,c1) for c1, c2 in list(_gdf.geometry.iloc[0].coords)])]})\n",
    "\n",
    "\n",
    "def points2gdf(_points):\n",
    "    return gpd.GeoDataFrame(geometry=[LineString(_points)])\n",
    "\n",
    "def gdf2coords(_gdf):\n",
    "    return list(_gdf.geometry.iloc[0].coords)\n",
    "    "
   ]
  },
  {
   "cell_type": "code",
   "execution_count": 6,
   "id": "f40768df-ed76-40b5-9ec8-db1e57e06636",
   "metadata": {},
   "outputs": [
    {
     "name": "stdout",
     "output_type": "stream",
     "text": [
      "Simplify Coords count:  11589  ->  10969\n",
      "Tolerance:  1e-07\n",
      "\n",
      "Simplify Coords count:  10969  ->  7676\n",
      "Tolerance:  1e-06\n",
      "\n",
      "Simplify Coords count:  7676  ->  1977\n",
      "Tolerance:  1e-05\n",
      "\n",
      "Simplify Coords count:  1977  ->  386\n",
      "Tolerance:  0.0001\n",
      "\n",
      "Simplify Coords count:  386  ->  379\n",
      "Tolerance:  0.0001\n",
      "\n",
      "Simplify Coords count:  379  ->  13\n",
      "Tolerance:  0.01\n",
      "\n"
     ]
    },
    {
     "data": {
      "application/vnd.jupyter.widget-view+json": {
       "model_id": "f76800a592ab44499e16bebe667ad0cd",
       "version_major": 2,
       "version_minor": 0
      },
      "text/plain": [
       "Map(center=[55.67781692843676, 36.71038865754297], controls=(ZoomControl(options=['position', 'zoom_in_text', …"
      ]
     },
     "execution_count": 6,
     "metadata": {},
     "output_type": "execute_result"
    }
   ],
   "source": [
    "gdf1 = simplify(gdf,  tolerance=0.0000001)\n",
    "gdf2 = simplify(gdf1, tolerance=0.000001)\n",
    "gdf3 = simplify(gdf2, tolerance=0.00001)\n",
    "gdf4 = simplify(gdf3, tolerance=0.0001)\n",
    "gdf5 = simplify(gdf4, tolerance=0.0001)\n",
    "gdf9 = simplify(gdf5, tolerance=0.01)\n",
    "\n",
    "gdf_spline = gdf2splines(gdf9)\n",
    "\n",
    "\n",
    "m = Map(center=gdf2centroid(gdf9), zoom=13, layout=Layout(width='100%', height='700px'))\n",
    "m.add(gdf2line(gdf1, 'navy'))\n",
    "m.add(gdf2line(gdf5, 'yellow'))\n",
    "\n",
    "m.add(gdf2line(gdf9, 'red'))\n",
    "\n",
    "m.add(gdf2line(gdf_spline, 'green'))\n",
    "m\n"
   ]
  },
  {
   "cell_type": "code",
   "execution_count": 8,
   "id": "9927e837-8a59-4600-bb1b-079500e7bc6d",
   "metadata": {},
   "outputs": [],
   "source": [
    "from datetime import datetime\n",
    "\n",
    "gdf_reverse_coords(gdf5).to_file(f'data-output/zvenigorod-route-{int(datetime.now().timestamp())}.geojson', driver='GeoJSON')\n"
   ]
  },
  {
   "cell_type": "code",
   "execution_count": null,
   "id": "5a21cd29-7376-488f-a901-c17365ac77c3",
   "metadata": {},
   "outputs": [],
   "source": []
  },
  {
   "cell_type": "code",
   "execution_count": null,
   "id": "1bcb16e5-9c5b-4163-8e55-bdc442ae8521",
   "metadata": {},
   "outputs": [],
   "source": []
  },
  {
   "cell_type": "code",
   "execution_count": 9,
   "id": "8fe3d3af-dd73-42a9-83ce-53ae0a35326a",
   "metadata": {},
   "outputs": [
    {
     "data": {
      "application/vnd.jupyter.widget-view+json": {
       "model_id": "f76800a592ab44499e16bebe667ad0cd",
       "version_major": 2,
       "version_minor": 0
      },
      "text/plain": [
       "Map(bottom=656732.0, center=[55.67781692843676, 36.71038865754297], controls=(ZoomControl(options=['position',…"
      ]
     },
     "execution_count": 9,
     "metadata": {},
     "output_type": "execute_result"
    }
   ],
   "source": [
    "camera_points = [\n",
    "    (55.563636, 36.592460),\n",
    "    (55.575730, 36.530853),\n",
    "    (55.608732, 36.548689),\n",
    "    (55.634572, 36.640942),\n",
    "    (55.707225, 36.652690),\n",
    "    (55.705424, 36.714075),\n",
    "    (55.705150, 36.807214),\n",
    "    (55.692771, 36.824143),\n",
    "    (55.701127, 36.932805),\n",
    "]\n",
    "\n",
    "gdf_camera_spliens = gdf2splines(points2gdf(camera_points))\n",
    "\n",
    "m.add(gdf2line(gdf_camera_spliens, 'magenta'))\n",
    "m"
   ]
  },
  {
   "cell_type": "code",
   "execution_count": 10,
   "id": "a24ec518-2ddf-4719-ae5d-ab96c3acf241",
   "metadata": {},
   "outputs": [
    {
     "data": {
      "text/plain": [
       "PosixPath('zvenigorod-camera-1712166271.js')"
      ]
     },
     "execution_count": 10,
     "metadata": {},
     "output_type": "execute_result"
    }
   ],
   "source": [
    "import string\n",
    "import utils\n",
    "from datetime import datetime\n",
    "\n",
    "# Make json\n",
    "\n",
    "js_file_template = string.Template('''\n",
    "const routes = {\n",
    "    target: [\n",
    "    $target\n",
    "],\n",
    "    camera: [\n",
    "    $camera\n",
    "    ]\n",
    "};\n",
    "''')\n",
    "\n",
    "\n",
    "text = js_file_template.substitute(\n",
    "    target = ',\\n'.join([f'\\t\\t[{c[0]}, {c[1]}]' for c in gdf2coords(gdf_reverse_coords(gdf_spline))]),\n",
    "    camera = ',\\n'.join([f'\\t\\t[{c[0]}, {c[1]}]' for c in gdf2coords(gdf_reverse_coords(gdf_camera_spliens))])\n",
    ")\n",
    "\n",
    "utils.write_file(f'zvenigorod-camera-{int(datetime.now().timestamp())}.js', text)\n"
   ]
  },
  {
   "cell_type": "code",
   "execution_count": null,
   "id": "b94c29dc-9333-4b16-a042-1830f3cf959e",
   "metadata": {},
   "outputs": [],
   "source": []
  },
  {
   "cell_type": "code",
   "execution_count": null,
   "id": "27c18589-0d8e-4ca7-931d-701e87187c6d",
   "metadata": {},
   "outputs": [],
   "source": []
  },
  {
   "cell_type": "code",
   "execution_count": null,
   "id": "195772ff-1683-4350-8e00-41f244a2deaa",
   "metadata": {},
   "outputs": [],
   "source": []
  },
  {
   "cell_type": "code",
   "execution_count": 41,
   "id": "82aac48a-6008-4a10-a558-9a4270fa10eb",
   "metadata": {},
   "outputs": [
    {
     "name": "stdout",
     "output_type": "stream",
     "text": [
      "[(55.577952, 36.5158), (55.690757, 36.825998)]\n",
      "\n",
      "                                            geometry\n",
      "0  LINESTRING (55.57795 36.51580, 55.69076 36.82600)\n",
      "[(55.597952, 36.4958), (55.710757, 36.805998)]\n",
      "\n",
      "                                            geometry\n",
      "0  LINESTRING (55.59795 36.49580, 55.71076 36.80600)\n"
     ]
    },
    {
     "data": {
      "application/vnd.jupyter.widget-view+json": {
       "model_id": "16815a2078da4854905c691bf64b26fe",
       "version_major": 2,
       "version_minor": 0
      },
      "text/plain": [
       "Map(center=[55.67781692843676, 36.71038865754297], controls=(ZoomControl(options=['position', 'zoom_in_text', …"
      ]
     },
     "execution_count": 41,
     "metadata": {},
     "output_type": "execute_result"
    }
   ],
   "source": [
    "import math\n",
    "\n",
    "st_cam_points = [\n",
    "    (55.577952, 36.515800),\n",
    "    (55.690757, 36.825998),\n",
    "]\n",
    "print(st_cam_points)\n",
    "print()\n",
    "\n",
    "dgf_st_cam = gpd.GeoDataFrame({'geometry': [LineString(st_cam_points)]})\n",
    "print(dgf_st_cam)\n",
    "\n",
    "\n",
    "delta = 0.02\n",
    "\n",
    "st_target_points = [(round(p[0]+delta, 6), round(p[1]-delta, 6))for p in st_cam_points]\n",
    "print(st_target_points)\n",
    "print()\n",
    "\n",
    "dgf_st_target = gpd.GeoDataFrame({'geometry': [LineString(st_target_points)]})\n",
    "print(dgf_st_target)\n",
    "\n",
    "\n",
    "m_st = Map(center=gdf2centroid(gdf9), zoom=11)\n",
    "m_st.add(gdf2line(dgf_st_cam, 'cyan'))\n",
    "m_st.add(gdf2line(dgf_st_target, 'lime'))\n",
    "m_st\n",
    "\n"
   ]
  },
  {
   "cell_type": "code",
   "execution_count": 42,
   "id": "00908f9f-5a05-4f37-8710-af5e4765b5f2",
   "metadata": {},
   "outputs": [
    {
     "data": {
      "text/plain": [
       "PosixPath('data-output/st-line-1712168373.js')"
      ]
     },
     "execution_count": 42,
     "metadata": {},
     "output_type": "execute_result"
    }
   ],
   "source": [
    "\n",
    "\n",
    "text = js_file_template.substitute(\n",
    "    target = ',\\n'.join([f'\\t\\t[{c[0]}, {c[1]}]' for c in gdf2coords(gdf_reverse_coords(dgf_st_target))]),\n",
    "    camera = ',\\n'.join([f'\\t\\t[{c[0]}, {c[1]}]' for c in gdf2coords(gdf_reverse_coords(dgf_st_cam))])\n",
    ")\n",
    "\n",
    "utils.write_file(f'data-output/st-line-{int(datetime.now().timestamp())}.js', text)"
   ]
  },
  {
   "cell_type": "code",
   "execution_count": null,
   "id": "ae7b553a-8d61-46d9-bef7-43554939ae06",
   "metadata": {},
   "outputs": [],
   "source": []
  },
  {
   "cell_type": "code",
   "execution_count": null,
   "id": "add9228a-ea86-4f50-bc32-160c8d3c8500",
   "metadata": {},
   "outputs": [],
   "source": []
  }
 ],
 "metadata": {
  "kernelspec": {
   "display_name": "Python 3 (ipykernel)",
   "language": "python",
   "name": "python3"
  },
  "language_info": {
   "codemirror_mode": {
    "name": "ipython",
    "version": 3
   },
   "file_extension": ".py",
   "mimetype": "text/x-python",
   "name": "python",
   "nbconvert_exporter": "python",
   "pygments_lexer": "ipython3",
   "version": "3.12.0"
  }
 },
 "nbformat": 4,
 "nbformat_minor": 5
}
