{
 "cells": [
  {
   "cell_type": "code",
   "execution_count": 1,
   "id": "3978c768-9586-4e75-bf5b-405d029bf1d2",
   "metadata": {},
   "outputs": [],
   "source": [
    "import tools"
   ]
  },
  {
   "cell_type": "code",
   "execution_count": 2,
   "id": "2cc7a178-f36c-49d4-8ad4-757bf3d6cc5a",
   "metadata": {},
   "outputs": [],
   "source": [
    "gpx_filename = 'data-input/28may2021.gpx'"
   ]
  },
  {
   "cell_type": "code",
   "execution_count": null,
   "id": "31e0f05f-a2f9-4bf8-a99e-3b96d3f93b86",
   "metadata": {},
   "outputs": [],
   "source": []
  },
  {
   "cell_type": "code",
   "execution_count": 3,
   "id": "88efd30c-d36f-46ef-b41b-6ded6d68ae52",
   "metadata": {},
   "outputs": [],
   "source": [
    "import geopandas as gpd\n",
    "from shapely.geometry import LineString, Point\n",
    "\n",
    "data_activity = tools.getActivityDataFromGpxFile(gpx_filename)\n",
    "points_full = data_activity['tracks'][0]['segments'][0]['points']\n",
    " \n",
    "points = [point[:2] for point in points_full]\n",
    "gdf = gpd.GeoDataFrame(geometry=[LineString(points)])"
   ]
  },
  {
   "cell_type": "code",
   "execution_count": null,
   "id": "23d02724-bd85-4982-a7cf-628ac02eca50",
   "metadata": {},
   "outputs": [],
   "source": []
  },
  {
   "cell_type": "code",
   "execution_count": null,
   "id": "01a1518e-fd2c-472f-80b8-cae4f5748b5f",
   "metadata": {},
   "outputs": [],
   "source": []
  },
  {
   "cell_type": "code",
   "execution_count": 4,
   "id": "53ad0379-2815-42d3-84d9-d45c238948e7",
   "metadata": {},
   "outputs": [],
   "source": [
    "from ipyleaflet import Map, Polyline\n",
    "from ipywidgets import Layout"
   ]
  },
  {
   "cell_type": "code",
   "execution_count": 5,
   "id": "f40768df-ed76-40b5-9ec8-db1e57e06636",
   "metadata": {},
   "outputs": [
    {
     "name": "stdout",
     "output_type": "stream",
     "text": [
      "Simplify Coords count:  11589  ->  10969\n",
      "Tolerance:  1e-07\n",
      "\n",
      "Simplify Coords count:  10969  ->  7676\n",
      "Tolerance:  1e-06\n",
      "\n",
      "Simplify Coords count:  7676  ->  1977\n",
      "Tolerance:  1e-05\n",
      "\n",
      "Simplify Coords count:  1977  ->  386\n",
      "Tolerance:  0.0001\n",
      "\n",
      "Simplify Coords count:  386  ->  379\n",
      "Tolerance:  0.0001\n",
      "\n",
      "Simplify Coords count:  379  ->  13\n",
      "Tolerance:  0.01\n",
      "\n"
     ]
    },
    {
     "data": {
      "application/vnd.jupyter.widget-view+json": {
       "model_id": "c41176e26f144291a9c74d7d6cbddec6",
       "version_major": 2,
       "version_minor": 0
      },
      "text/plain": [
       "Map(center=[55.67781692843676, 36.71038865754297], controls=(ZoomControl(options=['position', 'zoom_in_text', …"
      ]
     },
     "execution_count": 5,
     "metadata": {},
     "output_type": "execute_result"
    }
   ],
   "source": [
    "gdf1 = tools.simplify(gdf,  tolerance=0.0000001)\n",
    "gdf2 = tools.simplify(gdf1, tolerance=0.000001)\n",
    "gdf3 = tools.simplify(gdf2, tolerance=0.00001)\n",
    "gdf4 = tools.simplify(gdf3, tolerance=0.0001)\n",
    "gdf5 = tools.simplify(gdf4, tolerance=0.0001)\n",
    "gdf9 = tools.simplify(gdf5, tolerance=0.01)\n",
    "gdf9_spline = tools.gdf2splines(gdf9)\n",
    "\n",
    "\n",
    "\n",
    "m = Map(center=tools.gdf2centroid(gdf9), zoom=10, layout=Layout(width='100%', height='700px'))\n",
    "\n",
    "m.add(tools.gdf2line(gdf1, 'navy'))\n",
    "\n",
    "m.add(tools.gdf2line(gdf5, 'yellow'))\n",
    "\n",
    "m.add(tools.gdf2line(gdf9, 'red'))\n",
    "\n",
    "m.add(tools.gdf2line(gdf9_spline, 'green'))\n",
    "\n",
    "m\n"
   ]
  },
  {
   "cell_type": "code",
   "execution_count": 6,
   "id": "9927e837-8a59-4600-bb1b-079500e7bc6d",
   "metadata": {},
   "outputs": [
    {
     "name": "stdout",
     "output_type": "stream",
     "text": [
      "🚀 Export. Path and Variable: \n",
      "maps/notebook/data-output/gigerevo-route.js\n",
      "\n",
      "<script src=\"https://andrewalevin.github.io/maps/notebook/data-output/gigerevo-route.js\"></script>\n",
      "\n",
      "<script src=\"/Users/andrewlevin/Desktop/maps/notebook/data-output/gigerevo-route.js\"></script>\n",
      "\n",
      "🚀 Export. Path and Variable: \n",
      "maps/notebook/data-output/gigerevo-routesimplelines.js\n",
      "\n",
      "<script src=\"https://andrewalevin.github.io/maps/notebook/data-output/gigerevo-routesimplelines.js\"></script>\n",
      "\n",
      "<script src=\"/Users/andrewlevin/Desktop/maps/notebook/data-output/gigerevo-routesimplelines.js\"></script>\n",
      "\n",
      "🚀 Export. Path and Variable: \n",
      "maps/notebook/data-output/gigerevo-routesplines.js\n",
      "\n",
      "<script src=\"https://andrewalevin.github.io/maps/notebook/data-output/gigerevo-routesplines.js\"></script>\n",
      "\n",
      "<script src=\"/Users/andrewlevin/Desktop/maps/notebook/data-output/gigerevo-routesplines.js\"></script>\n",
      "\n"
     ]
    }
   ],
   "source": [
    "\n",
    "tools.export_js_v5('gigerevo', 'route', tools.reverse_coords(tools.gdf2coords(gdf5)))\n",
    "\n",
    "tools.export_js_v5('gigerevo', 'routesimplelines', tools.reverse_coords(tools.gdf2coords(gdf9)))\n",
    "\n",
    "tools.export_js_v5('gigerevo', 'routesplines', tools.reverse_coords(tools.gdf2coords(gdf9_spline)))\n"
   ]
  },
  {
   "cell_type": "code",
   "execution_count": null,
   "id": "5a21cd29-7376-488f-a901-c17365ac77c3",
   "metadata": {},
   "outputs": [],
   "source": []
  },
  {
   "cell_type": "code",
   "execution_count": null,
   "id": "1bcb16e5-9c5b-4163-8e55-bdc442ae8521",
   "metadata": {},
   "outputs": [],
   "source": []
  },
  {
   "cell_type": "code",
   "execution_count": 21,
   "id": "8fe3d3af-dd73-42a9-83ce-53ae0a35326a",
   "metadata": {},
   "outputs": [
    {
     "name": "stdout",
     "output_type": "stream",
     "text": [
      "Target:  [55.585876, 36.566525] [55.585718, 36.566955]\n",
      "\n",
      "CAMERA:  [55.565876, 36.566525] [55.565588, 36.565486]\n"
     ]
    },
    {
     "data": {
      "application/vnd.jupyter.widget-view+json": {
       "model_id": "b1092ea8f844463ebf79d16f2683061a",
       "version_major": 2,
       "version_minor": 0
      },
      "text/plain": [
       "Map(center=[55.67781692843676, 36.71038865754297], controls=(ZoomControl(options=['position', 'zoom_in_text', …"
      ]
     },
     "execution_count": 21,
     "metadata": {},
     "output_type": "execute_result"
    }
   ],
   "source": [
    "# Camera \n",
    "\n",
    "\n",
    "camera_points = [\n",
    "    (55.565876, 36.566525),\n",
    "    (55.575730, 36.530853),\n",
    "    (55.608732, 36.548689),\n",
    "    (55.634572, 36.640942),\n",
    "    (55.707225, 36.652690),\n",
    "    (55.705424, 36.714075),\n",
    "    (55.705150, 36.807214),\n",
    "    (55.692771, 36.824143),\n",
    "    (55.701127, 36.932805),\n",
    "]\n",
    "\n",
    "gdf_camera_spliens = tools.gdf2splines(tools.points2gdf(camera_points))\n",
    "\n",
    "\n",
    "m2 = Map(center=tools.gdf2centroid(gdf9), zoom=10, layout=Layout(width='100%', height='700px'))\n",
    "\n",
    "m2.add(tools.gdf2line(gdf9, 'red'))\n",
    "\n",
    "m2.add(tools.gdf2line(gdf9_spline, 'green'))\n",
    "\n",
    "m2.add(tools.gdf2line(gdf_camera_spliens, 'magenta'))\n",
    "\n",
    "\n",
    "cords_camera = tools.round6(tools.gdf2coords(gdf9_spline))\n",
    "print('Target: ', cords_camera[0], cords_camera[1])\n",
    "print()\n",
    "\n",
    "cords_camera = tools.round6(tools.gdf2coords(gdf_camera_spliens))\n",
    "print('CAMERA: ', cords_camera[0], cords_camera[1])\n",
    "\n",
    "\n",
    "m2"
   ]
  },
  {
   "cell_type": "code",
   "execution_count": 22,
   "id": "a24ec518-2ddf-4719-ae5d-ab96c3acf241",
   "metadata": {},
   "outputs": [
    {
     "name": "stdout",
     "output_type": "stream",
     "text": [
      "🚀 Export. Path and Variable: \n",
      "maps/notebook/data-output/gigerevo-stagemain.js\n",
      "\n",
      "<script src=\"https://andrewalevin.github.io/maps/notebook/data-output/gigerevo-stagemain.js\"></script>\n",
      "\n",
      "<script src=\"/Users/andrewlevin/Desktop/maps/notebook/data-output/gigerevo-stagemain.js\"></script>\n",
      "\n"
     ]
    }
   ],
   "source": [
    "\n",
    "data_js = {\n",
    "    'duration': 50000,\n",
    "    'route':{\n",
    "        'path': tools.round6(tools.reverse_coords(tools.gdf2coords(gdf5))),\n",
    "        'centroid': tools.gdf2centroid(gdf9),\n",
    "        'bounds': tools.gdf2bounds(gdf9)\n",
    "    },\n",
    "    'target': {\n",
    "        'path': tools.round6(tools.reverse_coords(tools.gdf2coords(gdf9_spline)))\n",
    "    },\n",
    "    'camera':{\n",
    "        'path': tools.round6(tools.reverse_coords(tools.gdf2coords(gdf_camera_spliens))),\n",
    "        'altitude': [2000, 2000],\n",
    "        'altitude_function': 'median'\n",
    "    },\n",
    "}\n",
    "\n",
    "tools.export_js_v5('gigerevo', 'stagemain', data_js)\n",
    "\n"
   ]
  },
  {
   "cell_type": "code",
   "execution_count": null,
   "id": "f850e3db-d557-4e7d-8aca-4cfc21867c4b",
   "metadata": {},
   "outputs": [],
   "source": []
  },
  {
   "cell_type": "code",
   "execution_count": null,
   "id": "5d56482e-7e92-4fac-b4b1-f2ecfd03dc40",
   "metadata": {},
   "outputs": [],
   "source": []
  }
 ],
 "metadata": {
  "kernelspec": {
   "display_name": "Python 3 (ipykernel)",
   "language": "python",
   "name": "python3"
  },
  "language_info": {
   "codemirror_mode": {
    "name": "ipython",
    "version": 3
   },
   "file_extension": ".py",
   "mimetype": "text/x-python",
   "name": "python",
   "nbconvert_exporter": "python",
   "pygments_lexer": "ipython3",
   "version": "3.12.0"
  }
 },
 "nbformat": 4,
 "nbformat_minor": 5
}
